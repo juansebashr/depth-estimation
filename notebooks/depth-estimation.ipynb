{
 "cells": [
  {
   "cell_type": "markdown",
   "metadata": {
    "pycharm": {
     "name": "#%% md\n"
    }
   },
   "source": []
  },
  {
   "cell_type": "code",
   "execution_count": null,
   "metadata": {
    "pycharm": {
     "name": "#%%\n"
    }
   },
   "outputs": [],
   "source": [
    "# Imports\n",
    "import pandas as pd\n",
    "import os\n",
    "import cv2\n",
    "import matplotlib.pyplot as plt\n",
    "import random\n",
    "import tensorflow as tf\n",
    "from tensorflow.keras import layers\n",
    "import huggingface_hub\n",
    "from tensorflow.python.ops.numpy_ops import np_config\n",
    "np_config.enable_numpy_behavior()"
   ]
  },
  {
   "cell_type": "code",
   "execution_count": null,
   "metadata": {
    "pycharm": {
     "name": "#%%\n"
    }
   },
   "outputs": [],
   "source": [
    "print(\"Num GPUs Available: \", len(tf.config.list_physical_devices('GPU')))"
   ]
  },
  {
   "cell_type": "code",
   "execution_count": null,
   "metadata": {
    "pycharm": {
     "name": "#%%\n"
    }
   },
   "outputs": [],
   "source": [
    "# Configurations\n",
    "PROJECT_PATH = 'D:\\Documents\\Kiwibot\\depth-estimation-project'\n",
    "USEFUL_CAMERAS = [['/video_mapping/left','/video_mapping/left/depth_map'],['/video_mapping/right', '/video_mapping/right/depth_map'], ['/video_mapping/back', '/video_mapping/back/depth_map'],['/camera/color/image_raw', '/camera/color/image_raw/depth_map']]"
   ]
  },
  {
   "cell_type": "markdown",
   "source": [
    "## Metrics\n",
    "\n",
    "For the evaluation of models, the following evaluation metrics were chosen:\n",
    "* IoU (Intersection over Union)\n",
    "* Dice Coefficient (F1 Score)\n",
    "* Prediction Time"
   ],
   "metadata": {
    "collapsed": false,
    "pycharm": {
     "name": "#%% md\n"
    }
   }
  },
  {
   "cell_type": "markdown",
   "metadata": {
    "pycharm": {
     "name": "#%% md\n"
    }
   },
   "source": [
    "## Input Data Pipeline"
   ]
  },
  {
   "cell_type": "markdown",
   "metadata": {
    "pycharm": {
     "name": "#%% md\n"
    }
   },
   "source": [
    "### Tensorflow"
   ]
  },
  {
   "cell_type": "code",
   "execution_count": null,
   "metadata": {
    "pycharm": {
     "name": "#%%\n"
    }
   },
   "outputs": [],
   "source": [
    "# Making the data pipeline for tensorflow\n",
    "\n",
    "metadata_path = os.path.join(PROJECT_PATH,'data','metadata.csv')\n",
    "metadata = pd.read_csv(metadata_path, encoding='utf-8')\n",
    "metadata.head()"
   ]
  },
  {
   "cell_type": "code",
   "execution_count": null,
   "metadata": {
    "pycharm": {
     "name": "#%%\n"
    }
   },
   "outputs": [],
   "source": [
    "images_list = []\n",
    "depth_masks_list = []\n",
    "\n",
    "for camera in USEFUL_CAMERAS:\n",
    "    images_camera = metadata[camera[0]].tolist()\n",
    "    masks_camera = metadata[camera[1]].tolist()\n",
    "\n",
    "    images_path = [os.path.join(PROJECT_PATH,'data','lidar-cams-dataset',x) for x in images_camera]\n",
    "    masks_path = [os.path.join(PROJECT_PATH,'data','lidar-cams-dataset',x) for x in masks_camera]\n",
    "\n",
    "    images_list = images_list + images_path\n",
    "    depth_masks_list = depth_masks_list + masks_path"
   ]
  },
  {
   "cell_type": "code",
   "execution_count": null,
   "metadata": {
    "pycharm": {
     "name": "#%%\n",
     "is_executing": true
    }
   },
   "outputs": [],
   "source": [
    "# Check out some images\n",
    "fig, ax = plt.subplots(4, 2, figsize=(14, 15))\n",
    "\n",
    "for i in range(4):\n",
    "    N = random.randint(0, len(images_list))\n",
    "\n",
    "    img = cv2.imread(images_list[N])[:,:,::-1]\n",
    "    mask = cv2.imread(depth_masks_list[N],0)\n",
    "\n",
    "    ax[i,0].imshow(img)\n",
    "    ax[i,0].set_title('Image')\n",
    "    ax[i,1].imshow(mask, cmap='plasma')\n",
    "    ax[i,1].set_title('LIDAR Depth')\n",
    "\n",
    "plt.show()"
   ]
  },
  {
   "cell_type": "code",
   "execution_count": 136,
   "metadata": {
    "pycharm": {
     "name": "#%%\n"
    }
   },
   "outputs": [],
   "source": [
    "image_filenames = tf.constant(images_list)\n",
    "masks_filenames = tf.constant(depth_masks_list)\n",
    "\n",
    "dataset = tf.data.Dataset.from_tensor_slices((image_filenames, masks_filenames))"
   ]
  },
  {
   "cell_type": "code",
   "execution_count": 137,
   "metadata": {
    "pycharm": {
     "name": "#%%\n"
    }
   },
   "outputs": [],
   "source": [
    "def process_path(image_path, mask_path):\n",
    "    img = tf.io.read_file(image_path)\n",
    "    img = tf.image.decode_jpeg(img, channels=3)\n",
    "    img = tf.image.convert_image_dtype(img, tf.float32)\n",
    "\n",
    "    depth_mask = tf.io.read_file(mask_path)\n",
    "    depth_mask = tf.image.decode_png(depth_mask, channels=1)\n",
    "\n",
    "    mask = tf.equal(depth_mask, tf.zeros_like(depth_mask))\n",
    "    mask = tf.logical_not(mask)\n",
    "\n",
    "    masked_img = tf.multiply(mask.astype(tf.float32),img)\n",
    "\n",
    "    return masked_img, depth_mask\n",
    "\n",
    "def preprocess(image, mask):\n",
    "    input_image = tf.image.resize(image, (256, 256), method='bilinear')\n",
    "    input_mask = tf.image.resize(mask, (256, 256), method='bilinear')\n",
    "\n",
    "    return input_image, input_mask\n",
    "\n",
    "image_ds = dataset.map(process_path)\n",
    "processed_image_ds = image_ds.map(preprocess)"
   ]
  },
  {
   "cell_type": "code",
   "execution_count": null,
   "metadata": {
    "pycharm": {
     "name": "#%%\n"
    }
   },
   "outputs": [],
   "source": [
    "for data in processed_image_ds.take(1):\n",
    "    fig, arr = plt.subplots(1, 2, figsize=(14, 10))\n",
    "    arr[0].imshow(data[0])\n",
    "    arr[0].set_title('Image')\n",
    "    arr[1].imshow(data[1])\n",
    "    print(data[0].shape)\n",
    "    print(data[1].shape)\n",
    "    arr[1].set_title('Segmentation')"
   ]
  },
  {
   "cell_type": "markdown",
   "metadata": {
    "pycharm": {
     "name": "#%% md\n"
    }
   },
   "source": [
    "### Pytorch"
   ]
  },
  {
   "cell_type": "code",
   "execution_count": null,
   "metadata": {
    "pycharm": {
     "name": "#%%\n"
    }
   },
   "outputs": [],
   "source": [
    "# Making the data pipeline with Pytorch"
   ]
  },
  {
   "cell_type": "markdown",
   "metadata": {
    "pycharm": {
     "name": "#%% md\n"
    }
   },
   "source": [
    "## Simple U-Net"
   ]
  },
  {
   "cell_type": "code",
   "execution_count": null,
   "metadata": {
    "pycharm": {
     "name": "#%%\n"
    }
   },
   "outputs": [],
   "source": [
    "class DownscaleBlock(layers.Layer):\n",
    "    def __init__(\n",
    "            self, filters, kernel_size=(3, 3), padding=\"same\", strides=1, **kwargs\n",
    "    ):\n",
    "        super().__init__(**kwargs)\n",
    "        self.convA = layers.Conv2D(filters, kernel_size, strides, padding)\n",
    "        self.convB = layers.Conv2D(filters, kernel_size, strides, padding)\n",
    "        self.reluA = layers.LeakyReLU(alpha=0.2)\n",
    "        self.reluB = layers.LeakyReLU(alpha=0.2)\n",
    "        self.bn2a = tf.keras.layers.BatchNormalization()\n",
    "        self.bn2b = tf.keras.layers.BatchNormalization()\n",
    "\n",
    "        self.pool = layers.MaxPool2D((2, 2), (2, 2))\n",
    "\n",
    "    def call(self, input_tensor):\n",
    "        d = self.convA(input_tensor)\n",
    "        x = self.bn2a(d)\n",
    "        x = self.reluA(x)\n",
    "\n",
    "        x = self.convB(x)\n",
    "        x = self.bn2b(x)\n",
    "        x = self.reluB(x)\n",
    "\n",
    "        x += d\n",
    "        p = self.pool(x)\n",
    "        return x, p\n",
    "\n",
    "\n",
    "class UpscaleBlock(layers.Layer):\n",
    "    def __init__(\n",
    "            self, filters, kernel_size=(3, 3), padding=\"same\", strides=1, **kwargs\n",
    "    ):\n",
    "        super().__init__(**kwargs)\n",
    "        self.us = layers.UpSampling2D((2, 2))\n",
    "        self.convA = layers.Conv2D(filters, kernel_size, strides, padding)\n",
    "        self.convB = layers.Conv2D(filters, kernel_size, strides, padding)\n",
    "        self.reluA = layers.LeakyReLU(alpha=0.2)\n",
    "        self.reluB = layers.LeakyReLU(alpha=0.2)\n",
    "        self.bn2a = tf.keras.layers.BatchNormalization()\n",
    "        self.bn2b = tf.keras.layers.BatchNormalization()\n",
    "        self.conc = layers.Concatenate()\n",
    "\n",
    "    def call(self, x, skip):\n",
    "        x = self.us(x)\n",
    "        concat = self.conc([x, skip])\n",
    "        x = self.convA(concat)\n",
    "        x = self.bn2a(x)\n",
    "        x = self.reluA(x)\n",
    "\n",
    "        x = self.convB(x)\n",
    "        x = self.bn2b(x)\n",
    "        x = self.reluB(x)\n",
    "\n",
    "        return x\n",
    "\n",
    "\n",
    "class BottleNeckBlock(layers.Layer):\n",
    "    def __init__(\n",
    "            self, filters, kernel_size=(3, 3), padding=\"same\", strides=1, **kwargs\n",
    "    ):\n",
    "        super().__init__(**kwargs)\n",
    "        self.convA = layers.Conv2D(filters, kernel_size, strides, padding)\n",
    "        self.convB = layers.Conv2D(filters, kernel_size, strides, padding)\n",
    "        self.reluA = layers.LeakyReLU(alpha=0.2)\n",
    "        self.reluB = layers.LeakyReLU(alpha=0.2)\n",
    "\n",
    "    def call(self, x):\n",
    "        x = self.convA(x)\n",
    "        x = self.reluA(x)\n",
    "        x = self.convB(x)\n",
    "        x = self.reluB(x)\n",
    "        return x"
   ]
  },
  {
   "cell_type": "code",
   "execution_count": null,
   "metadata": {
    "pycharm": {
     "name": "#%%\n"
    }
   },
   "outputs": [],
   "source": [
    "HEIGHT = 256\n",
    "WIDTH = 256\n",
    "LR = 0.0002\n",
    "EPOCHS = 30\n",
    "BATCH_SIZE = 10"
   ]
  },
  {
   "cell_type": "code",
   "execution_count": null,
   "metadata": {
    "pycharm": {
     "name": "#%%\n"
    }
   },
   "outputs": [],
   "source": [
    "class DepthEstimationModel(tf.keras.Model):\n",
    "    def __init__(self):\n",
    "        super().__init__()\n",
    "        self.ssim_loss_weight = 0.85\n",
    "        self.l1_loss_weight = 0.1\n",
    "        self.edge_loss_weight = 0.9\n",
    "        self.loss_metric = tf.keras.metrics.Mean(name=\"loss\")\n",
    "        f = [16, 32, 64, 128, 256]\n",
    "        self.downscale_blocks = [\n",
    "            DownscaleBlock(f[0]),\n",
    "            DownscaleBlock(f[1]),\n",
    "            DownscaleBlock(f[2]),\n",
    "            DownscaleBlock(f[3]),\n",
    "        ]\n",
    "        self.bottle_neck_block = BottleNeckBlock(f[4])\n",
    "        self.upscale_blocks = [\n",
    "            UpscaleBlock(f[3]),\n",
    "            UpscaleBlock(f[2]),\n",
    "            UpscaleBlock(f[1]),\n",
    "            UpscaleBlock(f[0]),\n",
    "        ]\n",
    "        self.conv_layer = layers.Conv2D(1, (1, 1), padding=\"same\", activation=\"tanh\")\n",
    "\n",
    "    def calculate_loss(self, target, pred):\n",
    "        # Edges\n",
    "        dy_true, dx_true = tf.image.image_gradients(target)\n",
    "        dy_pred, dx_pred = tf.image.image_gradients(pred)\n",
    "        weights_x = tf.exp(tf.reduce_mean(tf.abs(dx_true)))\n",
    "        weights_y = tf.exp(tf.reduce_mean(tf.abs(dy_true)))\n",
    "\n",
    "        # Depth smoothness\n",
    "        smoothness_x = dx_pred * weights_x\n",
    "        smoothness_y = dy_pred * weights_y\n",
    "\n",
    "        depth_smoothness_loss = tf.reduce_mean(abs(smoothness_x)) + tf.reduce_mean(\n",
    "            abs(smoothness_y)\n",
    "        )\n",
    "\n",
    "        # Structural similarity (SSIM) index\n",
    "        ssim_loss = tf.reduce_mean(\n",
    "            1\n",
    "            - tf.image.ssim(\n",
    "                target, pred, max_val=WIDTH, filter_size=7, k1=0.01 ** 2, k2=0.03 ** 2\n",
    "            )\n",
    "        )\n",
    "        # Point-wise depth\n",
    "        l1_loss = tf.reduce_mean(tf.abs(target - pred))\n",
    "\n",
    "        loss = (\n",
    "                (self.ssim_loss_weight * ssim_loss)\n",
    "                + (self.l1_loss_weight * l1_loss)\n",
    "                + (self.edge_loss_weight * depth_smoothness_loss)\n",
    "        )\n",
    "\n",
    "        return loss\n",
    "\n",
    "    @property\n",
    "    def metrics(self):\n",
    "        return [self.loss_metric]\n",
    "\n",
    "    def train_step(self, batch_data):\n",
    "        input, target = batch_data\n",
    "        with tf.GradientTape() as tape:\n",
    "            pred = self(input, training=True)\n",
    "            loss = self.calculate_loss(target, pred)\n",
    "\n",
    "        gradients = tape.gradient(loss, self.trainable_variables)\n",
    "        self.optimizer.apply_gradients(zip(gradients, self.trainable_variables))\n",
    "        self.loss_metric.update_state(loss)\n",
    "        return {\n",
    "            \"loss\": self.loss_metric.result(),\n",
    "        }\n",
    "\n",
    "    def test_step(self, batch_data):\n",
    "        input, target = batch_data\n",
    "\n",
    "        pred = self(input, training=False)\n",
    "        loss = self.calculate_loss(target, pred)\n",
    "\n",
    "        self.loss_metric.update_state(loss)\n",
    "        return {\n",
    "            \"loss\": self.loss_metric.result(),\n",
    "        }\n",
    "\n",
    "    def call(self, x):\n",
    "        c1, p1 = self.downscale_blocks[0](x)\n",
    "        c2, p2 = self.downscale_blocks[1](p1)\n",
    "        c3, p3 = self.downscale_blocks[2](p2)\n",
    "        c4, p4 = self.downscale_blocks[3](p3)\n",
    "\n",
    "        bn = self.bottle_neck_block(p4)\n",
    "\n",
    "        u1 = self.upscale_blocks[0](bn, c4)\n",
    "        u2 = self.upscale_blocks[1](u1, c3)\n",
    "        u3 = self.upscale_blocks[2](u2, c2)\n",
    "        u4 = self.upscale_blocks[3](u3, c1)\n",
    "\n",
    "        return self.conv_layer(u4)"
   ]
  },
  {
   "cell_type": "code",
   "execution_count": null,
   "metadata": {
    "pycharm": {
     "name": "#%%\n"
    }
   },
   "outputs": [],
   "source": [
    "optimizer = tf.keras.optimizers.Adam(\n",
    "    learning_rate=LR,\n",
    "    amsgrad=False,\n",
    ")\n",
    "model2 = DepthEstimationModel()\n",
    "# Define the loss function\n",
    "cross_entropy = tf.keras.losses.SparseCategoricalCrossentropy(\n",
    "    from_logits=True, reduction=\"none\"\n",
    ")\n",
    "# Compile the model\n",
    "model2.compile(optimizer, loss=cross_entropy)"
   ]
  },
  {
   "cell_type": "code",
   "execution_count": null,
   "metadata": {
    "pycharm": {
     "name": "#%%\n"
    }
   },
   "outputs": [],
   "source": [
    "model_history = model2.fit(\n",
    "    batched_train,\n",
    "    epochs=EPOCHS,\n",
    "    validation_data=batched_val,\n",
    ")"
   ]
  },
  {
   "cell_type": "code",
   "execution_count": null,
   "metadata": {
    "pycharm": {
     "name": "#%%\n"
    }
   },
   "outputs": [],
   "source": []
  },
  {
   "cell_type": "markdown",
   "metadata": {
    "pycharm": {
     "name": "#%% md\n"
    }
   },
   "source": [
    "## U-Net with convolutional backbone"
   ]
  },
  {
   "cell_type": "markdown",
   "metadata": {
    "pycharm": {
     "name": "#%% md\n"
    }
   },
   "source": [
    "First an inte"
   ]
  },
  {
   "cell_type": "code",
   "execution_count": null,
   "metadata": {
    "pycharm": {
     "name": "#%%\n"
    }
   },
   "outputs": [],
   "source": [
    "LR = 0.0002\n",
    "BATCH_SIZE = 10\n",
    "EPOCHS = 30"
   ]
  },
  {
   "cell_type": "code",
   "execution_count": null,
   "metadata": {
    "pycharm": {
     "name": "#%%\n"
    }
   },
   "outputs": [],
   "source": [
    "# Import model\n",
    "model = huggingface_hub.from_pretrained_keras(\"keras-io/monocular-depth-estimation\")"
   ]
  },
  {
   "cell_type": "code",
   "execution_count": null,
   "metadata": {
    "pycharm": {
     "name": "#%%\n"
    }
   },
   "outputs": [],
   "source": [
    "model.summary()"
   ]
  },
  {
   "cell_type": "code",
   "execution_count": null,
   "metadata": {
    "pycharm": {
     "name": "#%%\n"
    }
   },
   "outputs": [],
   "source": [
    "optimizer = tf.keras.optimizers.Adam(\n",
    "    learning_rate=LR,\n",
    "    amsgrad=False,\n",
    ")\n",
    "\n",
    "cross_entropy = tf.keras.losses.SparseCategoricalCrossentropy(\n",
    "    from_logits=True)#, reduction=\"none\")\n",
    "\n",
    "# Compile the model\n",
    "model.compile(optimizer, loss=cross_entropy)"
   ]
  },
  {
   "cell_type": "code",
   "execution_count": 138,
   "metadata": {
    "pycharm": {
     "name": "#%%\n"
    }
   },
   "outputs": [],
   "source": [
    "def get_dataset_partitions_tf(ds, ds_size, train_split=0.8, val_split=0.1, test_split=0.1, shuffle=True, shuffle_size=1000):\n",
    "    assert (train_split + test_split + val_split) == 1\n",
    "\n",
    "    if shuffle:\n",
    "        # Specify seed to always have the same split distribution between runs\n",
    "        ds = ds.shuffle(shuffle_size, seed=0)\n",
    "\n",
    "    train_size = int(train_split * ds_size)\n",
    "    val_size = int(val_split * ds_size)\n",
    "\n",
    "    train_ds = ds.take(train_size)\n",
    "    val_ds = ds.skip(train_size).take(val_size)\n",
    "    test_ds = ds.skip(train_size).skip(val_size)\n",
    "\n",
    "    return train_ds, val_ds, test_ds"
   ]
  },
  {
   "cell_type": "code",
   "execution_count": 139,
   "metadata": {
    "pycharm": {
     "name": "#%%\n"
    }
   },
   "outputs": [],
   "source": [
    "train_ds, val_ds, test_ds = get_dataset_partitions_tf(processed_image_ds,len(processed_image_ds))"
   ]
  },
  {
   "cell_type": "code",
   "execution_count": 140,
   "metadata": {
    "pycharm": {
     "name": "#%%\n"
    }
   },
   "outputs": [],
   "source": [
    "batched_train = train_ds.batch(BATCH_SIZE).prefetch(buffer_size=tf.data.AUTOTUNE)\n",
    "batched_val = val_ds.batch(BATCH_SIZE).prefetch(buffer_size=tf.data.AUTOTUNE)\n",
    "batched_test = test_ds.batch(BATCH_SIZE).prefetch(buffer_size=tf.data.AUTOTUNE)"
   ]
  },
  {
   "cell_type": "code",
   "execution_count": null,
   "metadata": {
    "pycharm": {
     "is_executing": true,
     "name": "#%%\n"
    }
   },
   "outputs": [],
   "source": [
    "model_history = model.fit(\n",
    "    batched_train,\n",
    "    epochs=EPOCHS,\n",
    "    validation_data=batched_val,\n",
    ")"
   ]
  },
  {
   "cell_type": "code",
   "execution_count": 141,
   "metadata": {
    "pycharm": {
     "name": "#%%\n"
    }
   },
   "outputs": [
    {
     "name": "stdout",
     "output_type": "stream",
     "text": [
      "1/1 [==============================] - 0s 24ms/step\n"
     ]
    }
   ],
   "source": [
    "for image, mask in batched_train.take(1):\n",
    "    pred_mask = model2.predict(image)\n",
    "    tensor_pred_mask = tf.convert_to_tensor(pred_mask)\n",
    "    hola_mask = mask"
   ]
  },
  {
   "cell_type": "code",
   "execution_count": 142,
   "outputs": [],
   "source": [
    "hola_mask2 = hola_mask[0].numpy().squeeze()"
   ],
   "metadata": {
    "collapsed": false,
    "pycharm": {
     "name": "#%%\n"
    }
   }
  },
  {
   "cell_type": "code",
   "execution_count": 129,
   "outputs": [],
   "source": [
    "sad = cv2.imread(depth_masks_list[N],0)"
   ],
   "metadata": {
    "collapsed": false,
    "pycharm": {
     "name": "#%%\n"
    }
   }
  },
  {
   "cell_type": "code",
   "execution_count": 144,
   "outputs": [
    {
     "data": {
      "text/plain": "<matplotlib.image.AxesImage at 0x1c01e232280>"
     },
     "execution_count": 144,
     "metadata": {},
     "output_type": "execute_result"
    },
    {
     "data": {
      "text/plain": "<Figure size 640x480 with 1 Axes>",
      "image/png": "[encoded data removed]"
     },
     "metadata": {},
     "output_type": "display_data"
    }
   ],
   "source": [
    "plt.imshow(image[0].numpy().squeeze())"
   ],
   "metadata": {
    "collapsed": false,
    "pycharm": {
     "name": "#%%\n"
    }
   }
  },
  {
   "cell_type": "markdown",
   "source": [
    "## References\n",
    "* [Monocular Depth Estimation Using Deep Learning: A Review](https://www.mdpi.com/1424-8220/22/14/5353/pdf?version=1658138962)\n",
    "* [Depth Estimation - Papers with code](https://paperswithcode.com/task/depth-estimation)\n",
    "* [High Quality Monocular Depth Estimation via Transfer Learning](https://arxiv.org/pdf/1812.11941.pdf)\n",
    "* [Keras tutorial - Depth Estimation](https://keras.io/examples/vision/depth_estimation/)\n",
    "* [Vision Transformers for Dense Prediction - Code](https://github.com/isl-org/DPT)\n",
    "* [Vision Transformers for Dense Prediction - Paper](https://arxiv.org/pdf/2103.13413.pdf)\n",
    "* [DPT Large model in Hugging Face](https://huggingface.co/Intel/dpt-large)"
   ],
   "metadata": {
    "collapsed": false,
    "pycharm": {
     "name": "#%% md\n"
    }
   }
  }
 ],
 "metadata": {
  "kernelspec": {
   "display_name": "KiwiEnv",
   "language": "python",
   "name": "kiwienv"
  },
  "language_info": {
   "codemirror_mode": {
    "name": "ipython",
    "version": 3
   },
   "file_extension": ".py",
   "mimetype": "text/x-python",
   "name": "python",
   "nbconvert_exporter": "python",
   "pygments_lexer": "ipython3",
   "version": "3.9.5"
  }
 },
 "nbformat": 4,
 "nbformat_minor": 1
}